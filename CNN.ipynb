{
 "cells": [
  {
   "cell_type": "code",
   "execution_count": 89,
   "metadata": {},
   "outputs": [],
   "source": [
    "import numpy as np\n",
    "import tensorflow as tf\n",
    "from tensorflow.keras.models import Sequential \n",
    "from tensorflow.keras.layers import Dense,Dropout,Activation,Conv2D,MaxPooling2D,Flatten,GlobalAveragePooling2D, Lambda\n",
    "from tensorflow.keras.optimizers import SGD\n",
    "import matplotlib\n",
    "from matplotlib import pyplot as plt\n",
    "from tensorflow.keras.models import load_model\n",
    "from tensorflow.keras.preprocessing.image import ImageDataGenerator\n",
    "\n",
    "\n",
    "np.load(\"X.array.npy\");\n",
    "np.load(\"y.array.npy\");\n"
   ]
  },
  {
   "cell_type": "code",
   "execution_count": 81,
   "metadata": {},
   "outputs": [],
   "source": [
    "X = X/255.0;\n",
    "X = np.array(X);\n",
    "y = np.array(y);"
   ]
  },
  {
   "cell_type": "code",
   "execution_count": null,
   "metadata": {},
   "outputs": [
    {
     "name": "stdout",
     "output_type": "stream",
     "text": [
      "Epoch 1/6\n",
      "1088/1088 [==============================] - 73s 67ms/step - loss: 0.0000e+00 - accuracy: 0.3778 - val_loss: 0.0000e+00 - val_accuracy: 0.3512\n",
      "Epoch 2/6\n",
      "1088/1088 [==============================] - 71s 65ms/step - loss: 0.0000e+00 - accuracy: 0.3778 - val_loss: 0.0000e+00 - val_accuracy: 0.3512\n",
      "Epoch 3/6\n",
      "1088/1088 [==============================] - 81s 74ms/step - loss: 0.0000e+00 - accuracy: 0.3778 - val_loss: 0.0000e+00 - val_accuracy: 0.3512\n",
      "Epoch 4/6\n",
      "1020/1088 [===========================>..] - ETA: 4s - loss: 0.0000e+00 - accuracy: 0.3814"
     ]
    }
   ],
   "source": [
    "model = Sequential()\n",
    "model.add(Conv2D(192,kernel_size = (1,1),input_shape = X.shape[1:],padding = 'same' ))\n",
    "model.add(Activation(\"relu\"))\n",
    "model.add(MaxPooling2D(pool_size=(2,2)))\n",
    "\n",
    "model.add(Conv2D(192,(3,3),input_shape = X.shape[1:]))\n",
    "model.add(Activation(\"relu\"))\n",
    "model.add(MaxPooling2D(pool_size=(2,2)))\n",
    "\n",
    "\n",
    "\n",
    "model.add(Conv2D(96,kernel_size = (1,1),input_shape = X.shape[1:],padding = 'same' ))\n",
    "model.add(Activation(\"relu\"))\n",
    "model.add(MaxPooling2D(pool_size=(2,2)))\n",
    "\n",
    "model.add(Flatten())\n",
    "model.add(Dense(6))\n",
    "model.add(Activation(\"relu\"))\n",
    "\n",
    "model.add(Dense(1))\n",
    "model.add(Activation(\"softmax\"))\n",
    "\n",
    "opt = SGD(lr=0.0001)\n",
    "model.compile(loss = \"categorical_crossentropy\", optimizer = opt,metrics = ['accuracy'])\n",
    "\n",
    "\n",
    "model.fit(X,y,batch_size = 1, epochs=6, validation_split = 0.3)\n"
   ]
  },
  {
   "cell_type": "code",
   "execution_count": 114,
   "metadata": {},
   "outputs": [
    {
     "name": "stdout",
     "output_type": "stream",
     "text": [
      "Epoch 1/32\n",
      "49/48 [==============================] - 1s 16ms/step - loss: 0.0000e+00 - accuracy: 0.3061\n",
      "Epoch 2/32\n",
      "49/48 [==============================] - 1s 16ms/step - loss: 0.0000e+00 - accuracy: 0.3469\n",
      "Epoch 3/32\n",
      "49/48 [==============================] - 1s 15ms/step - loss: 0.0000e+00 - accuracy: 0.4082\n",
      "Epoch 4/32\n",
      "49/48 [==============================] - 1s 15ms/step - loss: 0.0000e+00 - accuracy: 0.3878\n",
      "Epoch 5/32\n",
      "49/48 [==============================] - 1s 19ms/step - loss: 0.0000e+00 - accuracy: 0.4286\n",
      "Epoch 6/32\n",
      "49/48 [==============================] - 1s 18ms/step - loss: 0.0000e+00 - accuracy: 0.4082\n",
      "Epoch 7/32\n",
      "49/48 [==============================] - 1s 17ms/step - loss: 0.0000e+00 - accuracy: 0.4490\n",
      "Epoch 8/32\n",
      "49/48 [==============================] - 1s 16ms/step - loss: 0.0000e+00 - accuracy: 0.2857\n",
      "Epoch 9/32\n",
      "49/48 [==============================] - 1s 18ms/step - loss: 0.0000e+00 - accuracy: 0.3265\n",
      "Epoch 10/32\n",
      "49/48 [==============================] - 1s 16ms/step - loss: 0.0000e+00 - accuracy: 0.4898\n",
      "Epoch 11/32\n",
      "49/48 [==============================] - 1s 17ms/step - loss: 0.0000e+00 - accuracy: 0.3265\n",
      "Epoch 12/32\n",
      "49/48 [==============================] - 1s 19ms/step - loss: 0.0000e+00 - accuracy: 0.3061\n",
      "Epoch 13/32\n",
      "49/48 [==============================] - 1s 18ms/step - loss: 0.0000e+00 - accuracy: 0.4082\n",
      "Epoch 14/32\n",
      "49/48 [==============================] - 1s 17ms/step - loss: 0.0000e+00 - accuracy: 0.3265\n",
      "Epoch 15/32\n",
      "49/48 [==============================] - 1s 22ms/step - loss: 0.0000e+00 - accuracy: 0.3265\n",
      "Epoch 16/32\n",
      "49/48 [==============================] - 1s 18ms/step - loss: 0.0000e+00 - accuracy: 0.4898\n",
      "Epoch 17/32\n",
      "49/48 [==============================] - 1s 17ms/step - loss: 0.0000e+00 - accuracy: 0.4082\n",
      "Epoch 18/32\n",
      "49/48 [==============================] - 1s 17ms/step - loss: 0.0000e+00 - accuracy: 0.4898\n",
      "Epoch 19/32\n",
      "49/48 [==============================] - 1s 22ms/step - loss: 0.0000e+00 - accuracy: 0.4490\n",
      "Epoch 20/32\n",
      "49/48 [==============================] - 1s 16ms/step - loss: 0.0000e+00 - accuracy: 0.4082\n",
      "Epoch 21/32\n",
      "49/48 [==============================] - 1s 16ms/step - loss: 0.0000e+00 - accuracy: 0.1837\n",
      "Epoch 22/32\n",
      "49/48 [==============================] - 1s 16ms/step - loss: 0.0000e+00 - accuracy: 0.3673\n",
      "Epoch 23/32\n",
      "49/48 [==============================] - 1s 16ms/step - loss: 0.0000e+00 - accuracy: 0.3469\n",
      "Epoch 24/32\n",
      "49/48 [==============================] - 1s 17ms/step - loss: 0.0000e+00 - accuracy: 0.4694\n",
      "Epoch 25/32\n",
      "49/48 [==============================] - 1s 17ms/step - loss: 0.0000e+00 - accuracy: 0.3265\n",
      "Epoch 26/32\n",
      "49/48 [==============================] - 1s 19ms/step - loss: 0.0000e+00 - accuracy: 0.4286\n",
      "Epoch 27/32\n",
      "49/48 [==============================] - 1s 18ms/step - loss: 0.0000e+00 - accuracy: 0.3265\n",
      "Epoch 28/32\n",
      "49/48 [==============================] - 1s 16ms/step - loss: 0.0000e+00 - accuracy: 0.2653\n",
      "Epoch 29/32\n",
      "49/48 [==============================] - 1s 16ms/step - loss: 0.0000e+00 - accuracy: 0.3878\n",
      "Epoch 30/32\n",
      "49/48 [==============================] - 1s 20ms/step - loss: 0.0000e+00 - accuracy: 0.3061\n",
      "Epoch 31/32\n",
      "49/48 [==============================] - 1s 17ms/step - loss: 0.0000e+00 - accuracy: 0.3061\n",
      "Epoch 32/32\n",
      "49/48 [==============================] - 1s 17ms/step - loss: 0.0000e+00 - accuracy: 0.3673\n"
     ]
    },
    {
     "data": {
      "text/plain": [
       "<tensorflow.python.keras.callbacks.History at 0x7ffa6f480eb0>"
      ]
     },
     "execution_count": 114,
     "metadata": {},
     "output_type": "execute_result"
    }
   ],
   "source": [
    "datagen = ImageDataGenerator(\n",
    "    featurewise_center=False,  # set input mean to 0 over the dataset\n",
    "    samplewise_center=False,  # set each sample mean to 0\n",
    "    featurewise_std_normalization=False,  # divide inputs by std of the dataset\n",
    "    samplewise_std_normalization=False,  # divide each input by its std\n",
    "    zca_whitening=False,  # apply ZCA whitening\n",
    "    rotation_range=45,  # randomly rotate images in the range (degrees, 0 to 180)\n",
    "    width_shift_range=0.2,  # randomly shift images horizontally (fraction of total width)\n",
    "    height_shift_range=0.2,  # randomly shift images vertically (fraction of total height)\n",
    "    horizontal_flip=True,  # randomly flip images\n",
    "    vertical_flip=False)  # randomly flip images\n",
    "\n",
    "datagen.fit(X)\n",
    "\n",
    "model.fit(datagen.flow(X, y, batch_size=1),\n",
    "          steps_per_epoch=len(X)/32, epochs=32)\n"
   ]
  },
  {
   "cell_type": "code",
   "execution_count": null,
   "metadata": {},
   "outputs": [],
   "source": []
  }
 ],
 "metadata": {
  "kernelspec": {
   "display_name": "Python 3",
   "language": "python",
   "name": "python3"
  },
  "language_info": {
   "codemirror_mode": {
    "name": "ipython",
    "version": 3
   },
   "file_extension": ".py",
   "mimetype": "text/x-python",
   "name": "python",
   "nbconvert_exporter": "python",
   "pygments_lexer": "ipython3",
   "version": "3.8.3"
  }
 },
 "nbformat": 4,
 "nbformat_minor": 4
}
